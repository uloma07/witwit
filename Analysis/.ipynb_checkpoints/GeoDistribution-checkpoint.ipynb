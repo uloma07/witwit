{
 "cells": [
  {
   "cell_type": "code",
   "execution_count": null,
   "id": "initial_id",
   "metadata": {
    "collapsed": true
   },
   "outputs": [],
   "source": [
    "import folium\n",
    "import pandas as pd\n"
   ]
  },
  {
   "cell_type": "code",
   "execution_count": null,
   "id": "cb063b64",
   "metadata": {},
   "outputs": [],
   "source": [
    "\n",
    "# Load your dataset\n",
    "data = pd.read_json('your_dataset.json')\n",
    "\n",
    "# Create a map object centered on a default location (e.g., New York)\n",
    "default_lat = 40.7128\n",
    "default_lon = -74.0059\n",
    "map_obj = folium.Map(location=[default_lat, default_lon], zoom_start=3)\n",
    "\n",
    "# Add markers for each image location\n",
    "for index, row in data.iterrows():\n",
    "    lat = row['latitude']\n",
    "    lon = row['longitude']\n",
    "    folium.Marker([lat, lon], popup=row['title']).add_to(map_obj)\n",
    "\n",
    "# Fit the map bounds to the image locations\n",
    "bounds = folium.utilities.get_bounds(map_obj)\n",
    "map_obj.fit_bounds(bounds)\n",
    "\n",
    "# Display the map\n",
    "map_obj"
   ]
  }
 ],
 "metadata": {
  "kernelspec": {
   "display_name": "Python 3 (ipykernel)",
   "language": "python",
   "name": "python3"
  },
  "language_info": {
   "codemirror_mode": {
    "name": "ipython",
    "version": 3
   },
   "file_extension": ".py",
   "mimetype": "text/x-python",
   "name": "python",
   "nbconvert_exporter": "python",
   "pygments_lexer": "ipython3",
   "version": "3.9.12"
  }
 },
 "nbformat": 4,
 "nbformat_minor": 5
}
